{
 "cells": [
  {
   "cell_type": "markdown",
   "metadata": {
    "slideshow": {
     "slide_type": "slide"
    }
   },
   "source": [
    "<p style=\"text-align: center; font-size: 300%\"> Introduction to Programming in Python </p>\n",
    "<img src=\"img/logo.svg\" alt=\"LOGO\" style=\"display:block; margin-left: auto; margin-right: auto; width: 30%;\">"
   ]
  },
  {
   "cell_type": "markdown",
   "metadata": {
    "slideshow": {
     "slide_type": "slide"
    }
   },
   "source": [
    "# Control Flow"
   ]
  },
  {
   "cell_type": "markdown",
   "metadata": {
    "slideshow": {
     "slide_type": "-"
    }
   },
   "source": [
    "## Loops\n",
    " * A loop is used whenever a bunch of statements needs to be executed more than once.\n",
    " * Python has two kinds of loops: `while` loops and `for` loops.\n",
    " * A `while` loop is used to run some code as long as some condition is true.\n",
    " * A `for` loop is used to run some code a pre-specified number of times."
   ]
  },
  {
   "cell_type": "markdown",
   "metadata": {
    "slideshow": {
     "slide_type": "slide"
    }
   },
   "source": [
    "### `While` loops\n",
    "* Similar to `if`, but jumps back to the `while` statement after the `while` block has finished."
   ]
  },
  {
   "cell_type": "code",
   "execution_count": null,
   "metadata": {},
   "outputs": [],
   "source": [
    "x = -1 # why is this needed?\n",
    "while x < 0 or x > 9:\n",
    "    x = int(input(\"Enter a number between 0 and 9: \"))\n",
    "    if x < 0:\n",
    "        print(\"You have entered a negative number.\")\n",
    "    elif x > 9:\n",
    "        print(\"You have entered a number greater than 9.\")\n",
    "print(\"Thank you. You entered \" + str(x) + \".\")"
   ]
  },
  {
   "cell_type": "markdown",
   "metadata": {
    "slideshow": {
     "slide_type": "slide"
    }
   },
   "source": [
    " * Alternative implementation:"
   ]
  },
  {
   "cell_type": "code",
   "execution_count": null,
   "metadata": {},
   "outputs": [],
   "source": [
    "while True:\n",
    "    x = int(input(\"Enter a number between 0 and 9: \"))\n",
    "    if x < 0:\n",
    "        print(\"You have entered a negative number.\")        \n",
    "    elif x > 9:\n",
    "        print(\"You have entered a number greater than 9.\")\n",
    "    else:\n",
    "        print(\"Thank you. You entered \" + str(x) + \".\")\n",
    "        break  # exit innermost enclosing loop.\n",
    "\n",
    "    \n"
   ]
  },
  {
   "cell_type": "markdown",
   "metadata": {
    "slideshow": {
     "slide_type": "slide"
    }
   },
   "source": [
    "Remark: Like `if` blocks, `while` loops can have an `else` block. It is executed when the condition is (or becomes) false. The same is of course true if one just puts the code in the `else` block _after_ the loop like in our first implementation, but the two approaches differ when there is a `break` statement. Here is our first implementation again, modified to use this:"
   ]
  },
  {
   "cell_type": "code",
   "execution_count": null,
   "metadata": {},
   "outputs": [],
   "source": [
    "x = -1 # why is this needed?\n",
    "while x < 0 or x > 9:\n",
    "    x = int(input(\"Enter a number between 0 and 9: \"))\n",
    "    if x < 0:\n",
    "        print(\"You have entered a negative number.\")\n",
    "    elif x > 9:\n",
    "        print(\"You have entered a number greater than 9.\")\n",
    "else:\n",
    "    print(\"Thank you. You entered \" + str(x) + \".\")"
   ]
  },
  {
   "cell_type": "markdown",
   "metadata": {
    "slideshow": {
     "slide_type": "slide"
    }
   },
   "source": [
    "### Exercise: Number Guessing Game\n",
    "Implement the following game: The computer chooses a random number, and the player has to guess it. After guessing, the player receives feedback as to whether they guessed correctly, or too low, or too high. The game ends when the correct number has been guessed. Start with the skeleton below."
   ]
  },
  {
   "cell_type": "code",
   "execution_count": null,
   "metadata": {},
   "outputs": [],
   "source": [
    "import random # a standard library (i.e., built in) module. more on this later\n",
    "lower = 0\n",
    "upper = 100\n",
    "to_guess = random.randint(lower, upper) # a function from that library. has to be prepended by the module name. more later.\n",
    "current_guess = -1\n",
    "while current_guess != to_guess:\n",
    "    break"
   ]
  },
  {
   "cell_type": "markdown",
   "metadata": {
    "slideshow": {
     "slide_type": "slide"
    }
   },
   "source": [
    "## `for` loops\n",
    "This is the other kind of loop supported by Python. It iterates over the elements of a sequence (e.g., a list):"
   ]
  },
  {
   "cell_type": "code",
   "execution_count": null,
   "metadata": {},
   "outputs": [],
   "source": [
    "for letter in \"Python\":\n",
    "    print(letter)"
   ]
  },
  {
   "cell_type": "markdown",
   "metadata": {},
   "source": [
    "`letter` is called the loop variable. Every time the loop body is executed, it will in turn assume the value of each element of the sequence."
   ]
  },
  {
   "cell_type": "markdown",
   "metadata": {
    "slideshow": {
     "slide_type": "slide"
    }
   },
   "source": [
    "### Range objects"
   ]
  },
  {
   "cell_type": "markdown",
   "metadata": {
    "slideshow": {
     "slide_type": "-"
    }
   },
   "source": [
    "`range` objects are often useful in conjunction with `for` loops, especially for numerical computations.\n",
    "They represent sequences of integers. \n",
    "\n",
    "Syntax:"
   ]
  },
  {
   "cell_type": "code",
   "execution_count": null,
   "metadata": {},
   "outputs": [],
   "source": [
    "myrange = range(1, 10, 2) # start, stop, step; c.f. slicing\n",
    "print(myrange)"
   ]
  },
  {
   "cell_type": "code",
   "execution_count": null,
   "metadata": {},
   "outputs": [],
   "source": [
    "type(myrange)"
   ]
  },
  {
   "cell_type": "code",
   "execution_count": null,
   "metadata": {},
   "outputs": [],
   "source": [
    "list(myrange)"
   ]
  },
  {
   "cell_type": "markdown",
   "metadata": {
    "slideshow": {
     "slide_type": "slide"
    }
   },
   "source": [
    " * As you can see, we have to convert the `range` to a `list` in order to see its contents (this shouldn't be done in practice).\n",
    " * Reason: a range doesn't actually materialize its contents upon creation, only when it is used.\n",
    " * This is called `lazy` computation. \n",
    " * Advantage: `range`s can be huge, without consuming any memory.\n",
    " * Usage in `for` loops: "
   ]
  },
  {
   "cell_type": "code",
   "execution_count": null,
   "metadata": {},
   "outputs": [],
   "source": [
    "squares = []\n",
    "for element in range(1, 11): # step is optional\n",
    "    squares.append(element ** 2)\n",
    "print(squares)\n",
    "    "
   ]
  },
  {
   "cell_type": "markdown",
   "metadata": {
    "slideshow": {
     "slide_type": "slide"
    }
   },
   "source": [
    "Quiz: What does the following compute?"
   ]
  },
  {
   "cell_type": "code",
   "execution_count": null,
   "metadata": {},
   "outputs": [],
   "source": [
    "n = 5\n",
    "result = 1\n",
    "for i in range(1, n+1):\n",
    "    result = result * i # or shorter: result *= 1\n",
    "print(result)"
   ]
  },
  {
   "cell_type": "markdown",
   "metadata": {
    "slideshow": {
     "slide_type": "slide"
    }
   },
   "source": [
    "`for` loops support `break` for early stopping, and an `else` clause which is executed when the loop terminates regularly (i.e., not via `break`):"
   ]
  },
  {
   "cell_type": "code",
   "execution_count": null,
   "metadata": {
    "slideshow": {
     "slide_type": "-"
    }
   },
   "outputs": [],
   "source": [
    "import random\n",
    "haystack = random.sample(range(1, 11), 10)\n",
    "print(haystack)"
   ]
  },
  {
   "cell_type": "code",
   "execution_count": null,
   "metadata": {},
   "outputs": [],
   "source": [
    "needle = 6\n",
    "counter = 0\n",
    "for elem in haystack:\n",
    "    if elem == needle:\n",
    "        print(needle, \"found at position \" + str(counter) + \".\")\n",
    "        break\n",
    "    counter += 1\n",
    "else:\n",
    "    print(needle, \" not found.\")        "
   ]
  },
  {
   "cell_type": "markdown",
   "metadata": {},
   "source": [
    "(we could just have used `haystack.index(needle)` of course).\n"
   ]
  },
  {
   "cell_type": "markdown",
   "metadata": {
    "slideshow": {
     "slide_type": "slide"
    }
   },
   "source": [
    "Loops can be nested:"
   ]
  },
  {
   "cell_type": "code",
   "execution_count": null,
   "metadata": {},
   "outputs": [],
   "source": [
    "for row in range(1, 6):\n",
    "    for col in range(row):\n",
    "        print(\"*\", end=\"\") # end=\"\" suppresses the newline\n",
    "    print()"
   ]
  },
  {
   "cell_type": "markdown",
   "metadata": {
    "slideshow": {
     "slide_type": "slide"
    }
   },
   "source": [
    "### Exercise\n",
    "Complete the following code snippet so that it prints out the primes up to `N` (it currently prints out all numbers between 2 and `N`).\n",
    "Hints:\n",
    " * `pass` is a syntactical placeholder. This is what you need to replace.\n",
    " * The \"modulo\" operater `%` returns the remainder after division, i.e., `a % b == 0` is `True` if and only if `a` is divisible by `b`.\n",
    " * use `break`.\n",
    " \n",
    " "
   ]
  },
  {
   "cell_type": "code",
   "execution_count": null,
   "metadata": {},
   "outputs": [],
   "source": [
    "N = 100\n",
    "for i in range(2, N+1):\n",
    "    for j in range(2, i):        \n",
    "        pass\n",
    "    else:\n",
    "        pass"
   ]
  },
  {
   "cell_type": "markdown",
   "metadata": {},
   "source": [
    "Note: this algorithm is not efficient. A more efficient algorithm is the [Sieve of Eratosthenes](https://en.wikipedia.org/wiki/Sieve_of_Eratosthenes)."
   ]
  },
  {
   "cell_type": "markdown",
   "metadata": {
    "slideshow": {
     "slide_type": "slide"
    }
   },
   "source": [
    "## Homework\n",
    "### Add some bells and whistles to the guessing game\n",
    " 1. The player only gets a limited number of guesses, say `n=10`. When reached, the game stops with a message given to the player.\n",
    " 2. The player can stop the game by entering a negative number. The computer then says \"Bye.\"\n",
    " 3. Improved feedback: if the player guesses too high (say `to_guess` is 50 and the user guesses 75), then in the next round, the computer asks for a number between 0 and 75 in the next round. Analogously if the guess is too low."
   ]
  },
  {
   "cell_type": "markdown",
   "metadata": {
    "slideshow": {
     "slide_type": "slide"
    }
   },
   "source": [
    "## More Homework\n",
    "### `while`\n",
    " * Intermediate exercises 9a, 9b from https://holypython.com/\n",
    " * Optional: Exercise 9 (hard) from https://www.w3resource.com/python-exercises/python-conditional-statements-and-loop-exercises.php\n",
    "\n",
    "Note for the sample solution of Ex. 9: two variables can be assigned at the same time as follows:"
   ]
  },
  {
   "cell_type": "code",
   "execution_count": null,
   "metadata": {},
   "outputs": [],
   "source": [
    "a, b = 1, 2\n",
    "print(a, b)"
   ]
  },
  {
   "cell_type": "markdown",
   "metadata": {},
   "source": [
    "### `for`\n",
    "* Exercises 1, 4, 6 from https://www.w3resource.com/python-exercises/python-conditional-statements-and-loop-exercises.php"
   ]
  }
 ],
 "metadata": {
  "celltoolbar": "Slideshow",
  "kernelspec": {
   "display_name": "Python 3 (ipykernel)",
   "language": "python",
   "name": "python3"
  },
  "language_info": {
   "codemirror_mode": {
    "name": "ipython",
    "version": 3
   },
   "file_extension": ".py",
   "mimetype": "text/x-python",
   "name": "python",
   "nbconvert_exporter": "python",
   "pygments_lexer": "ipython3",
   "version": "3.7.11"
  },
  "livereveal": {
   "start_slideshow_at": "selected"
  }
 },
 "nbformat": 4,
 "nbformat_minor": 2
}
