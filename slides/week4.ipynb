{
 "cells": [
  {
   "cell_type": "markdown",
   "metadata": {
    "slideshow": {
     "slide_type": "slide"
    }
   },
   "source": [
    "<p style=\"text-align: center; font-size: 300%\"> Introduction to Programming in Python </p>\n",
    "<img src=\"img/logo.svg\" alt=\"LOGO\" style=\"display:block; margin-left: auto; margin-right: auto; width: 30%;\">"
   ]
  },
  {
   "cell_type": "markdown",
   "metadata": {
    "slideshow": {
     "slide_type": "slide"
    }
   },
   "source": [
    "# Control Flow"
   ]
  },
  {
   "cell_type": "markdown",
   "metadata": {},
   "source": [
    "## Conditionals\n",
    "Conditional statements are used if code is only to be executed if some condition holds.\n",
    "Example:\n"
   ]
  },
  {
   "cell_type": "code",
   "execution_count": null,
   "metadata": {},
   "outputs": [],
   "source": [
    "x = int(input(\"Enter a positive number: \")) \n",
    "if x < 0:\n",
    "    print(\"You have entered a negative number.\")"
   ]
  },
  {
   "cell_type": "markdown",
   "metadata": {},
   "source": [
    "Notes: \n",
    " 1. Code blocks are introduced by colons and have to be indented.\n",
    " 2. The `if` block is executed if and only if the condition is `True`."
   ]
  },
  {
   "cell_type": "markdown",
   "metadata": {
    "slideshow": {
     "slide_type": "slide"
    }
   },
   "source": [
    "What if we want to do something in case the condition is `False`, as well? `else` to the rescue."
   ]
  },
  {
   "cell_type": "code",
   "execution_count": null,
   "metadata": {},
   "outputs": [],
   "source": [
    "x = int(input(\"Enter a positive number: \")) \n",
    "if x < 0:\n",
    "    print(\"You have entered a negative number.\")\n",
    "else:\n",
    "    print(\"Thank you.\")\n",
    "    "
   ]
  },
  {
   "cell_type": "markdown",
   "metadata": {},
   "source": [
    "Evidently, the `else` block is executed whenever the condition is `False`."
   ]
  },
  {
   "cell_type": "markdown",
   "metadata": {
    "slideshow": {
     "slide_type": "slide"
    }
   },
   "source": [
    "What if we have multiple conditions? E.g., we want a number between 0 and 9? Solution: `elif` (read: else if)."
   ]
  },
  {
   "cell_type": "code",
   "execution_count": null,
   "metadata": {
    "slideshow": {
     "slide_type": "-"
    }
   },
   "outputs": [],
   "source": [
    "x = int(input(\"Enter a number between 0 and 9: \")) \n",
    "if x < 0:\n",
    "    print(\"You have entered a negative number.\")\n",
    "elif x > 9:\n",
    "    print(\"Your number is greater than 9.\")\n",
    "else:\n",
    "    print(\"Thank you.\")\n",
    "\n",
    "    "
   ]
  },
  {
   "cell_type": "markdown",
   "metadata": {},
   "source": [
    "Notes:\n",
    " 1. The `elif` block is executed when the `if` condition is false, but the `elif` condition is true. \n",
    " 1. Exactly one of the three blocks is executed. The `else` block acts as a catch-all if none of the others is triggered.\n",
    " 1. There could be more than one `elif` block, but only one `if` and only one `else`."
   ]
  },
  {
   "cell_type": "markdown",
   "metadata": {
    "slideshow": {
     "slide_type": "slide"
    }
   },
   "source": [
    "## Exercise\n",
    "\n",
    "The body mass index (BMI) is defined as a person's weight (in kg) divided by the squared height in meters. The following thresholds exist (source: [NHS](https://www.nhs.uk/common-health-questions/lifestyle/what-is-the-body-mass-index-bmi/)):\n",
    "\n",
    " * below 18.5 – underweight\n",
    " * 18.5 up to 25 - healthy\n",
    " * 25 up to 30 - overweight\n",
    " * above 30 - obese.\n",
    "\n",
    "Write a program that asks the user for their weight and height, calculates the BMI, and prints a message telling the user `You are ... .` "
   ]
  },
  {
   "cell_type": "markdown",
   "metadata": {
    "slideshow": {
     "slide_type": "slide"
    }
   },
   "source": [
    "# Loops\n",
    " * A loop is used whenever a bunch of statements needs to be executed more than once.\n",
    " * Python has two kinds of loops: `while` loops and `for` loops.\n",
    " * A `while` loop is used to run some code as long as some condition is true.\n",
    " * A `for` loop is used to run some code a pre-specified number of times."
   ]
  },
  {
   "cell_type": "markdown",
   "metadata": {
    "slideshow": {
     "slide_type": "slide"
    }
   },
   "source": [
    "## `While` loops\n",
    "* Similar to `if`, but jumps back to the `while` statement after the `while` block has finished."
   ]
  },
  {
   "cell_type": "code",
   "execution_count": null,
   "metadata": {},
   "outputs": [],
   "source": [
    "x = -1 # why is this needed?\n",
    "while x < 0 or x > 9:\n",
    "    x = int(input(\"Enter a number between 0 and 9: \"))\n",
    "    if x < 0:\n",
    "        print(\"You have entered a negative number.\")\n",
    "    elif x > 9:\n",
    "        print(\"You have entered a number greater than 9.\")\n",
    "print(\"Thank you. You entered \" + str(x) + \".\")"
   ]
  },
  {
   "cell_type": "markdown",
   "metadata": {
    "slideshow": {
     "slide_type": "slide"
    }
   },
   "source": [
    " * Alternative implementation:"
   ]
  },
  {
   "cell_type": "code",
   "execution_count": null,
   "metadata": {},
   "outputs": [],
   "source": [
    "while True:\n",
    "    x = int(input(\"Enter a number between 0 and 9: \"))\n",
    "    if x < 0:\n",
    "        print(\"You have entered a negative number.\")        \n",
    "    elif x > 9:\n",
    "        print(\"You have entered a number greater than 9.\")\n",
    "    else:\n",
    "        print(\"Thank you. You entered \" + str(x) + \".\")\n",
    "        break  # exit innermost enclosing loop.\n",
    "\n",
    "    \n"
   ]
  },
  {
   "cell_type": "markdown",
   "metadata": {
    "slideshow": {
     "slide_type": "slide"
    }
   },
   "source": [
    "Remark: Like `if` blocks, `while` loops can have an `else` block. It is executed when the condition is (or becomes) false. The same is of course true if one just puts the code in the `else` block _after_ the loop like in our first implementation, but the two approaches differ when there is a `break` statement. Here is our first implementation again, modified to use this:"
   ]
  },
  {
   "cell_type": "code",
   "execution_count": null,
   "metadata": {},
   "outputs": [],
   "source": [
    "x = -1 # why is this needed?\n",
    "while x < 0 or x > 9:\n",
    "    x = int(input(\"Enter a number between 0 and 9: \"))\n",
    "    if x < 0:\n",
    "        print(\"You have entered a negative number.\")\n",
    "    elif x > 9:\n",
    "        print(\"You have entered a number greater than 9.\")\n",
    "else:\n",
    "    print(\"Thank you. You entered \" + str(x) + \".\")"
   ]
  },
  {
   "cell_type": "markdown",
   "metadata": {
    "slideshow": {
     "slide_type": "slide"
    }
   },
   "source": [
    "## Exercise: Number Guessing Game\n",
    "Implement the following game: The computer chooses a random number, and the player has to guess it. After guessing, the player receives feedback as to whether they guessed correctly, or too low, or too high. The game ends when the correct number has been guessed. Start with the skeleton below."
   ]
  },
  {
   "cell_type": "code",
   "execution_count": null,
   "metadata": {},
   "outputs": [],
   "source": [
    "import random # a standard library (i.e., built in) module. more on this later\n",
    "lower = 0\n",
    "upper = 100\n",
    "to_guess = random.randint(lower, upper) # a function from that library. has to be prepended by the module name. more later.\n",
    "current_guess = -1\n",
    "while current_guess != to_guess:\n",
    "    break"
   ]
  },
  {
   "cell_type": "markdown",
   "metadata": {
    "slideshow": {
     "slide_type": "slide"
    }
   },
   "source": [
    "## Homework\n",
    "### Add some bells and whistles to the guessing game\n",
    " 1. The player only gets a limited number of guesses, say `n=10`. When reached, the game stops with a message given to the player.\n",
    " 2. The player can stop the game by entering a negative number. The computer then says \"Bye.\"\n",
    " 3. Improved feedback: if the player guesses too high (say `to_guess` is 50 and the user guesses 75), then in the next round, the computer asks for a number between 0 and 75 in the next round. Analogously if the guess is too low."
   ]
  },
  {
   "cell_type": "markdown",
   "metadata": {
    "slideshow": {
     "slide_type": "slide"
    }
   },
   "source": [
    "# More Homework\n",
    "### Holypython\n",
    "\n",
    "Intermediate exercises 7a, 7b, 9a, 9b from https://holypython.com/\n",
    "\n",
    "### W3Resource\n",
    "Exercises 2, 9 (hard), 31, 33 and 40 from\n",
    "https://www.w3resource.com/python-exercises/python-conditional-statements-and-loop-exercises.php\n",
    "\n",
    "Note for the sample solution of Ex. 9: two variables can be assigned at the same time as follows:"
   ]
  },
  {
   "cell_type": "code",
   "execution_count": null,
   "metadata": {},
   "outputs": [],
   "source": [
    "a, b = 1, 2\n",
    "print(a, b)"
   ]
  },
  {
   "cell_type": "markdown",
   "metadata": {},
   "source": [
    "Note for the sample solution of Ex. 9: you can test if a list or tuple contains a given value like this:"
   ]
  },
  {
   "cell_type": "code",
   "execution_count": null,
   "metadata": {},
   "outputs": [],
   "source": [
    "3 in [1, 2, 3]"
   ]
  }
 ],
 "metadata": {
  "celltoolbar": "Slideshow",
  "kernelspec": {
   "display_name": "Python 3 (ipykernel)",
   "language": "python",
   "name": "python3"
  },
  "language_info": {
   "codemirror_mode": {
    "name": "ipython",
    "version": 3
   },
   "file_extension": ".py",
   "mimetype": "text/x-python",
   "name": "python",
   "nbconvert_exporter": "python",
   "pygments_lexer": "ipython3",
   "version": "3.7.11"
  },
  "livereveal": {
   "start_slideshow_at": "selected"
  }
 },
 "nbformat": 4,
 "nbformat_minor": 2
}
