{
 "cells": [
  {
   "cell_type": "markdown",
   "metadata": {
    "slideshow": {
     "slide_type": "slide"
    }
   },
   "source": [
    "<p style=\"text-align: center; font-size: 300%\"> Introduction to Programming in Python </p>\n",
    "<img src=\"img/logo.svg\" alt=\"LOGO\" style=\"display:block; margin-left: auto; margin-right: auto; width: 30%;\">"
   ]
  },
  {
   "cell_type": "markdown",
   "metadata": {
    "slideshow": {
     "slide_type": "slide"
    }
   },
   "source": [
    "# Installing git\n",
    "## Windows\n",
    " * Download git from here: https://git-scm.com/download/win\n",
    " * Run the installer. "
   ]
  },
  {
   "cell_type": "markdown",
   "metadata": {
    "slideshow": {
     "slide_type": "slide"
    }
   },
   "source": [
    "<img src=\"img/git1.png\" alt=\"\" style=\"display:block; margin-left: auto; margin-right: auto; width: 30%;\">"
   ]
  },
  {
   "cell_type": "markdown",
   "metadata": {
    "slideshow": {
     "slide_type": "slide"
    }
   },
   "source": [
    "<img src=\"img/git2.png\" alt=\"\" style=\"display:block; margin-left: auto; margin-right: auto; width: 30%;\">"
   ]
  },
  {
   "cell_type": "markdown",
   "metadata": {
    "slideshow": {
     "slide_type": "slide"
    }
   },
   "source": [
    "<img src=\"img/git3.png\" alt=\"\" style=\"display:block; margin-left: auto; margin-right: auto; width: 30%;\">"
   ]
  },
  {
   "cell_type": "markdown",
   "metadata": {
    "slideshow": {
     "slide_type": "slide"
    }
   },
   "source": [
    "<img src=\"img/git4.png\" alt=\"\" style=\"display:block; margin-left: auto; margin-right: auto; width: 30%;\">"
   ]
  },
  {
   "cell_type": "markdown",
   "metadata": {
    "slideshow": {
     "slide_type": "slide"
    }
   },
   "source": [
    "<img src=\"img/git5.png\" alt=\"\" style=\"display:block; margin-left: auto; margin-right: auto; width: 30%;\">"
   ]
  },
  {
   "cell_type": "markdown",
   "metadata": {
    "slideshow": {
     "slide_type": "slide"
    }
   },
   "source": [
    "<img src=\"img/git6.png\" alt=\"\" style=\"display:block; margin-left: auto; margin-right: auto; width: 30%;\">"
   ]
  },
  {
   "cell_type": "markdown",
   "metadata": {
    "slideshow": {
     "slide_type": "slide"
    }
   },
   "source": [
    "<img src=\"img/git7.png\" alt=\"\" style=\"display:block; margin-left: auto; margin-right: auto; width: 30%;\">"
   ]
  },
  {
   "cell_type": "markdown",
   "metadata": {
    "slideshow": {
     "slide_type": "slide"
    }
   },
   "source": [
    "<img src=\"img/git8.png\" alt=\"\" style=\"display:block; margin-left: auto; margin-right: auto; width: 30%;\">"
   ]
  },
  {
   "cell_type": "markdown",
   "metadata": {
    "slideshow": {
     "slide_type": "slide"
    }
   },
   "source": [
    "<img src=\"img/git9.png\" alt=\"\" style=\"display:block; margin-left: auto; margin-right: auto; width: 30%;\">"
   ]
  },
  {
   "cell_type": "markdown",
   "metadata": {
    "slideshow": {
     "slide_type": "slide"
    }
   },
   "source": [
    "<img src=\"img/git10.png\" alt=\"\" style=\"display:block; margin-left: auto; margin-right: auto; width: 30%;\">"
   ]
  },
  {
   "cell_type": "markdown",
   "metadata": {
    "slideshow": {
     "slide_type": "slide"
    }
   },
   "source": [
    "<img src=\"img/git11.png\" alt=\"\" style=\"display:block; margin-left: auto; margin-right: auto; width: 30%;\">"
   ]
  },
  {
   "cell_type": "markdown",
   "metadata": {
    "slideshow": {
     "slide_type": "slide"
    }
   },
   "source": [
    "<img src=\"img/git12.png\" alt=\"\" style=\"display:block; margin-left: auto; margin-right: auto; width: 30%;\">"
   ]
  },
  {
   "cell_type": "markdown",
   "metadata": {
    "slideshow": {
     "slide_type": "slide"
    }
   },
   "source": [
    "# MacOS\n",
    "* Open a terminal and copy and paste the following two lines one by one, hitting enter after each.\n",
    "```bash\n",
    "/bin/bash -c \"$(curl -fsSL https://raw.githubusercontent.com/Homebrew/install/HEAD/install.sh)\"\n",
    "```\n",
    "```bash\n",
    "brew install git\n",
    "```\n",
    "* In newer versions of MacOS, the latter command may give an error that `brew` cannot be found. In that case, use the following two commands in the terminal (seperately , pressing `enter` after each:\n",
    "```bash\n",
    "export PATH=\"/opt/homebrew/bin:$PATH\"\n",
    "```\n",
    "```bash\n",
    "echo 'export PATH=\"/opt/homebrew/bin:$PATH\"' >> $HOME/.zshrc\n",
    "```\n",
    "* Then, try again:\n",
    "```bash\n",
    "brew install git\n",
    "```\n",
    "* You may need to restart the terminal for this to work."
   ]
  },
  {
   "cell_type": "markdown",
   "metadata": {
    "slideshow": {
     "slide_type": "slide"
    }
   },
   "source": [
    "# Using git/Github\n",
    " * `git` is a tool for \"version control\". It allows several developers to collaborate on the same piece of code, and merge their work later.\n",
    " * [Github](https://github.com/) is a website that allows you to host your code in the cloud, using `git` to upload/download changes.\n",
    " * I'll show you some first steps."
   ]
  },
  {
   "cell_type": "markdown",
   "metadata": {
    "slideshow": {
     "slide_type": "slide"
    }
   },
   "source": [
    "## Creating a new repo\n",
    " * Make an account on Github: https://docs.github.com/en/get-started/signing-up-for-github/signing-up-for-a-new-github-account\n",
    " * Create a new repo: https://docs.github.com/en/get-started/quickstart/create-a-repo\n",
    " "
   ]
  },
  {
   "cell_type": "markdown",
   "metadata": {
    "slideshow": {
     "slide_type": "slide"
    }
   },
   "source": [
    "# Cloning the repo\n",
    "* Open cmd (Windows) or a Terminal (on MacOS). Use the `cd` command to navigate to your Documents folder :\n",
    "   - `cd c:\\Users\\<username>\\Documents` (Windows)\n",
    "   - `cd /Users/<<username>/Documents`  (MacOS)\n",
    " * Check out the contents of the folder:\n",
    "   - `dir` (Windows)\n",
    "   - `ls` (MacOS)\n",
    " * If you don't have one yet, create a `Python` in folder inside `Documents`:\n",
    "   - `mkdir` Python \n",
    "* Clone your new repository:\n",
    "  - `git clone <URL of repo>`\n",
    "\n",
    "* This creates a new folder with the contents of the repo. You can now modify them, and then push them back to Github.\n"
   ]
  },
  {
   "cell_type": "markdown",
   "metadata": {
    "slideshow": {
     "slide_type": "slide"
    }
   },
   "source": [
    "## Making changes\n",
    "* Open the README.md file in the repo with an editor (from Explorer/Finder). Make some changes, and save the file.\n",
    "* Back in the terminal window, do\n",
    "  - `git status`\n",
    "* This shows that the file has changed. We now want to upload the changes back to Github. There are several steps."
   ]
  },
  {
   "cell_type": "markdown",
   "metadata": {
    "slideshow": {
     "slide_type": "slide"
    }
   },
   "source": [
    "## Commiting changes\n",
    " * You first have to tell `git` which changes you want to commit. This is called \"staging\". It works like this:\n",
    "   - `git add <filename>`\n",
    " * You do this for all the files whose changes you want to commit. Next, these changes are \"committed\" to `git`:\n",
    "   - `git commit -m \"<a nice commit message explaining the changes>\"`\n",
    " * The first time you do this, `git` will ask you to \"tell me who you are\". Just copy the two `git config` commands it shows, and paste them back into the terminal, replacing the username and email with your own.\n",
    "   "
   ]
  },
  {
   "cell_type": "markdown",
   "metadata": {
    "slideshow": {
     "slide_type": "slide"
    }
   },
   "source": [
    "# Uploading changes\n",
    "* Lastly, upload the changes to github:\n",
    "   - `git push`\n",
    "* The last command likely results in an error, because you need to specify your email and password.\n",
    "* The user name is your Github user name.\n",
    "* The password is *not* your Github password, but rather an access token that you have to create first. Follow the instructions here: https://docs.github.com/en/authentication/keeping-your-account-and-data-secure/creating-a-personal-access-token\\\n",
    "* You need separate tokens for each machine you want to work on."
   ]
  },
  {
   "cell_type": "markdown",
   "metadata": {
    "slideshow": {
     "slide_type": "slide"
    }
   },
   "source": [
    "## Downloading changes\n",
    "* If you are collaborating with someone (e.g., your teammate for the project), they can now download the changes using (in the project folder in CMD/the terminal)\n",
    "  - `git pull`\n",
    "* Problem: this fails if any local changes would be overwritten. One way out is to discard the local changes, using `git stash`, and then doing `git pull` again. This may be useful for the course materials, if you don't need your own changes anymore.\n"
   ]
  },
  {
   "cell_type": "markdown",
   "metadata": {
    "slideshow": {
     "slide_type": "slide"
    }
   },
   "source": [
    "## Branches\n",
    "* For collaboration, one works in `branches`. A branch is basically a separate copy/version of the repo where you can independently make changes.\n",
    "* Doing `git branch` shows you the branch you are currently on.\n",
    "* Do `git checkout -b <branch name>` to create a new branch, and then `git push origin <branch name>` to publish the branch to Github (this last part won't work with the course repo, because you don't have commit access there).\n",
    "* Now, when you `add`, `commit`, and `push` changes, they will be commited to the new branch.\n",
    "* Later, you can merge the changes in your branch into the main branch by creating a [pull request] on Github.\n",
    "* You can switch back to the `main` branch by doing `git checkout main`. Note: historically, the main branch was called `master`. That's also true for the course repo"
   ]
  },
  {
   "cell_type": "markdown",
   "metadata": {
    "slideshow": {
     "slide_type": "slide"
    }
   },
   "source": [
    "# Possible workflow for the course materials\n",
    "* Clone the repo once:\n",
    "  - `git clone https://github.com/s-broda/IntroPython`\n",
    "* At the beginning of the lecture, do `git pull` to download the latest changes.\n",
    "* If you want to work along, do that in your own branch, so that the `master` branch doesn't have any changes, which would create conflicts next week. Thus, at the beginning of a lecture, do:\n",
    "  - `git checkout -b my_work`\n",
    "* If you forget the above step, then you can also do this at the end of the lecture (before commiting). \n",
    "* At the end of the lecture, commit your changes to your branch (the `-a` option adds any changed files automatically, skipping the `add` step)\n",
    "  - `git commit -am \"me following along\"`\n",
    "* Then, switch back to the master branch:\n",
    "  - `git checkout master`\n",
    "  \n",
    " \n"
   ]
  },
  {
   "cell_type": "markdown",
   "metadata": {
    "slideshow": {
     "slide_type": "slide"
    }
   },
   "source": [
    "# Required reading\n",
    "* Read the \"Beginner\", \"Getting Started\", and \"Collaborating\" sections of https://www.atlassian.com/git/tutorials/what-is-version-control (note that these tutorials use BitBucket instead of Github)"
   ]
  },
  {
   "cell_type": "markdown",
   "metadata": {
    "slideshow": {
     "slide_type": "slide"
    }
   },
   "source": [
    "# Exercise / Homework\n",
    "* Together with your team  mate, set up a repo on Github (under one of your accounts; give your teammate [access](https://docs.github.com/en/account-and-profile/setting-up-and-managing-your-github-user-account/managing-access-to-your-personal-repositories/inviting-collaborators-to-a-personal-repository).\n",
    "* Clone the repo to both your machines.\n",
    "* Each of you, create a new branch (different names). Push the branch to Github.\n",
    "* Inside your branch, create a new file each (different filenames). Push the branch with the new file to Github.\n",
    "* On Github, create and merge two pull requests, thus merging the changes in the two branches into the \"main\" branch."
   ]
  }
 ],
 "metadata": {
  "celltoolbar": "Slideshow",
  "kernelspec": {
   "display_name": "Python 3",
   "language": "python",
   "name": "python3"
  },
  "language_info": {
   "codemirror_mode": {
    "name": "ipython",
    "version": 3
   },
   "file_extension": ".py",
   "mimetype": "text/x-python",
   "name": "python",
   "nbconvert_exporter": "python",
   "pygments_lexer": "ipython3",
   "version": "3.7.4"
  },
  "livereveal": {
   "start_slideshow_at": "selected"
  }
 },
 "nbformat": 4,
 "nbformat_minor": 2
}
