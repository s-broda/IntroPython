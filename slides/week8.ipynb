{
 "cells": [
  {
   "cell_type": "markdown",
   "metadata": {
    "slideshow": {
     "slide_type": "slide"
    }
   },
   "source": [
    "<p style=\"text-align: center; font-size: 300%\"> Introduction to Programming in Python </p>\n",
    "<img src=\"img/logo.svg\" alt=\"LOGO\" style=\"display:block; margin-left: auto; margin-right: auto; width: 30%;\">"
   ]
  },
  {
   "cell_type": "markdown",
   "metadata": {
    "slideshow": {
     "slide_type": "slide"
    }
   },
   "source": [
    "# Working with PyCharm\n",
    "There are no slides for this bit. Some nice tutorials are available on the web, like [this one](https://www.mygreatlearning.com/blog/pycharm-tutorial/#runningacodeinpycharm).\n",
    "\n",
    "PyCharm also has extensive documentation:\n",
    "\n",
    "* https://www.jetbrains.com/help/pycharm/creating-and-running-your-first-python-project.html#summary\n",
    "* https://www.jetbrains.com/help/pycharm/debugging-your-first-python-application.html#summary\n"
   ]
  }
 ],
 "metadata": {
  "celltoolbar": "Slideshow",
  "kernelspec": {
   "display_name": "Python 3",
   "language": "python",
   "name": "python3"
  },
  "language_info": {
   "codemirror_mode": {
    "name": "ipython",
    "version": 3
   },
   "file_extension": ".py",
   "mimetype": "text/x-python",
   "name": "python",
   "nbconvert_exporter": "python",
   "pygments_lexer": "ipython3",
   "version": "3.7.4"
  },
  "livereveal": {
   "start_slideshow_at": "selected"
  }
 },
 "nbformat": 4,
 "nbformat_minor": 2
}
