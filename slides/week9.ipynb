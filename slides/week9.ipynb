{
 "cells": [
  {
   "cell_type": "markdown",
   "metadata": {
    "slideshow": {
     "slide_type": "slide"
    }
   },
   "source": [
    "<p style=\"text-align: center; font-size: 300%\"> Introduction to Programming in Python </p>\n",
    "<img src=\"img/logo.svg\" alt=\"LOGO\" style=\"display:block; margin-left: auto; margin-right: auto; width: 30%;\">"
   ]
  },
  {
   "cell_type": "markdown",
   "metadata": {
    "slideshow": {
     "slide_type": "slide"
    }
   },
   "source": [
    "### Pandas Dataframes\n",
    "#### Introduction to Pandas\n",
    "* `pandas` (from *p*anel *d*ata) is another fundamental package ([user quide](http://pandas.pydata.org/pandas-docs/stable/overview.html)).\n",
    "* It provides a number of datastructures (*series*, *dataframes*, and *panels*) designed for storing observational data, and powerful methods for manipulating (*munging*, or *wrangling*) these data.\n",
    "* It is usually imported as `pd`:"
   ]
  },
  {
   "cell_type": "code",
   "execution_count": null,
   "metadata": {},
   "outputs": [],
   "source": [
    "import pandas as pd"
   ]
  },
  {
   "cell_type": "markdown",
   "metadata": {},
   "source": [
    "* Pandas is incredibly powerful; we will only scratch the surface here. Working with it will require a lot of googling."
   ]
  },
  {
   "cell_type": "markdown",
   "metadata": {
    "slideshow": {
     "slide_type": "slide"
    }
   },
   "source": [
    "#### Series\n",
    "* A pandas `Series` is essentially a NumPy array, but not necessarily indexed with integers."
   ]
  },
  {
   "cell_type": "code",
   "execution_count": null,
   "metadata": {
    "slideshow": {
     "slide_type": "-"
    }
   },
   "outputs": [],
   "source": [
    "pop = pd.Series([5.7, 82.7, 17.0], name='Population'); pop  # the descriptive name is optional"
   ]
  },
  {
   "cell_type": "markdown",
   "metadata": {},
   "source": [
    "* The difference is that the index can be anything, not just a list of integers:"
   ]
  },
  {
   "cell_type": "code",
   "execution_count": null,
   "metadata": {},
   "outputs": [],
   "source": [
    "pop.index=['DK', 'DE', 'NL']"
   ]
  },
  {
   "cell_type": "markdown",
   "metadata": {},
   "source": [
    "* The index can be used for indexing (duh...):"
   ]
  },
  {
   "cell_type": "code",
   "execution_count": null,
   "metadata": {},
   "outputs": [],
   "source": [
    "pop['NL']"
   ]
  },
  {
   "cell_type": "markdown",
   "metadata": {
    "slideshow": {
     "slide_type": "slide"
    }
   },
   "source": [
    "* The index is preserved when operating on a `series`:"
   ]
  },
  {
   "cell_type": "code",
   "execution_count": null,
   "metadata": {
    "slideshow": {
     "slide_type": "-"
    }
   },
   "outputs": [],
   "source": [
    "gdp = pd.Series([3494.898, 769.930], name='Nominal GDP in Billion USD', index=['DE', 'NL']); gdp"
   ]
  },
  {
   "cell_type": "code",
   "execution_count": null,
   "metadata": {},
   "outputs": [],
   "source": [
    "gdp / pop"
   ]
  },
  {
   "cell_type": "markdown",
   "metadata": {},
   "source": [
    "* One advantage of a `Series` compared to NumPy arrays is that they can handle missing data, represented as `NaN` (not a number)."
   ]
  },
  {
   "cell_type": "markdown",
   "metadata": {
    "slideshow": {
     "slide_type": "slide"
    }
   },
   "source": [
    "#### Dataframes"
   ]
  },
  {
   "cell_type": "markdown",
   "metadata": {},
   "source": [
    "* A `DataFrame` is a collection of `Series` with a common index (which labels the rows)."
   ]
  },
  {
   "cell_type": "code",
   "execution_count": null,
   "metadata": {},
   "outputs": [],
   "source": [
    "data = pd.concat([gdp, pop], axis=1, sort=False); data  # concatenate two Series to a DataFrame."
   ]
  },
  {
   "cell_type": "markdown",
   "metadata": {},
   "source": [
    "* Columns are indexed by column name:"
   ]
  },
  {
   "cell_type": "code",
   "execution_count": null,
   "metadata": {},
   "outputs": [],
   "source": [
    "data.columns"
   ]
  },
  {
   "cell_type": "code",
   "execution_count": null,
   "metadata": {},
   "outputs": [],
   "source": [
    "data['Population']  # data.Population works too"
   ]
  },
  {
   "cell_type": "markdown",
   "metadata": {
    "slideshow": {
     "slide_type": "slide"
    }
   },
   "source": [
    "* Rows are indexed with the `loc` method:"
   ]
  },
  {
   "cell_type": "code",
   "execution_count": null,
   "metadata": {},
   "outputs": [],
   "source": [
    "data.loc['NL']"
   ]
  },
  {
   "cell_type": "markdown",
   "metadata": {
    "slideshow": {
     "slide_type": "-"
    }
   },
   "source": [
    "* Unlike arrays, dataframes can have columns with different datatypes.\n",
    "* There are different ways to add columns. One is to just assign to a new column:"
   ]
  },
  {
   "cell_type": "code",
   "execution_count": null,
   "metadata": {
    "scrolled": true,
    "slideshow": {
     "slide_type": "-"
    }
   },
   "outputs": [],
   "source": [
    "data['Language'] = ['German', 'Danish', 'Dutch']  # add a new column from a list"
   ]
  },
  {
   "cell_type": "markdown",
   "metadata": {
    "slideshow": {
     "slide_type": "slide"
    }
   },
   "source": [
    "* To add rows, use `loc` or `append`:"
   ]
  },
  {
   "cell_type": "code",
   "execution_count": null,
   "metadata": {
    "slideshow": {
     "slide_type": "-"
    }
   },
   "outputs": [],
   "source": [
    "print(data.loc[\"DE\"])\n",
    "data.loc['AT'] = [386.4, 8.7, 'German']  # add a row with index 'AT'.\n",
    "s = pd.DataFrame([[511.0, 9.9, 'Swedish']], index=['SE'], columns=data.columns)\n",
    "data = data.append(s)  # add a row by appending another dataframe. May create duplicates.\n",
    "data"
   ]
  },
  {
   "cell_type": "markdown",
   "metadata": {
    "slideshow": {
     "slide_type": "slide"
    }
   },
   "source": [
    "* The `dropna` method can be used to delete rows with missing values:"
   ]
  },
  {
   "cell_type": "code",
   "execution_count": null,
   "metadata": {},
   "outputs": [],
   "source": [
    "data = data.dropna(); data"
   ]
  },
  {
   "cell_type": "markdown",
   "metadata": {
    "slideshow": {
     "slide_type": "slide"
    }
   },
   "source": [
    "* Useful methods for obtaining summary information about a dataframe are `mean`, `std`, `info`, `describe`, `head`, and `tail`."
   ]
  },
  {
   "cell_type": "code",
   "execution_count": null,
   "metadata": {},
   "outputs": [],
   "source": [
    "data.describe()"
   ]
  },
  {
   "cell_type": "code",
   "execution_count": null,
   "metadata": {},
   "outputs": [],
   "source": [
    "data.head() # show the first few rows; data.tail shows the last few"
   ]
  },
  {
   "cell_type": "markdown",
   "metadata": {
    "slideshow": {
     "slide_type": "slide"
    }
   },
   "source": [
    "* To save a dataframe to disk as a csv file, use"
   ]
  },
  {
   "cell_type": "code",
   "execution_count": null,
   "metadata": {},
   "outputs": [],
   "source": [
    "data.to_csv('myfile.csv') # to_excel exists as well."
   ]
  },
  {
   "cell_type": "markdown",
   "metadata": {},
   "source": [
    "* To load data into a dataframe, use `pd.read_csv`:"
   ]
  },
  {
   "cell_type": "code",
   "execution_count": null,
   "metadata": {},
   "outputs": [],
   "source": [
    "pd.read_csv('myfile.csv', index_col=0)"
   ]
  },
  {
   "cell_type": "code",
   "execution_count": null,
   "metadata": {},
   "outputs": [],
   "source": [
    "import os\n",
    "os.remove('myfile.csv') # clean up"
   ]
  },
  {
   "cell_type": "markdown",
   "metadata": {
    "slideshow": {
     "slide_type": "slide"
    }
   },
   "source": [
    "Usually, you won't be creating dataframes from scratch; rather, they result from obtaining data from somewhere. E.g., Pandas can open CSV files directly from a URL, resulting in a dataframe:"
   ]
  },
  {
   "cell_type": "code",
   "execution_count": null,
   "metadata": {},
   "outputs": [],
   "source": [
    "import os.path\n",
    "fname = \"coviddata.csv\"\n",
    "URL = \"https://covid.ourworldindata.org/data/owid-covid-data.csv\"\n",
    "if os.path.isfile(fname): # only download once\n",
    "    df = pd.read_csv(fname)\n",
    "else:\n",
    "    df = pd.read_csv(URL)\n",
    "df.head()"
   ]
  },
  {
   "cell_type": "markdown",
   "metadata": {
    "slideshow": {
     "slide_type": "slide"
    }
   },
   "source": [
    "## Split-Apply-Combine\n",
    "* An important concept in working with data is the \"split-apply-combine\" paradigm: split the data according to some criterion, apply an operation to it, and then combine the results into a new dataframe.  \n",
    "* Suppose the CoViD data above only contained the daily new cases, not the total number of cases. How could we compute the total number of cases?\n",
    "* Answer: split the data by country, sum the daily new cases, and then combine the results into a new dataframe."
   ]
  },
  {
   "cell_type": "markdown",
   "metadata": {
    "slideshow": {
     "slide_type": "slide"
    }
   },
   "source": [
    "* In Pandas, the paradigm corresponds to `groupby`:"
   ]
  },
  {
   "cell_type": "code",
   "execution_count": null,
   "metadata": {},
   "outputs": [],
   "source": [
    "df.groupby(\"location\").new_cases.sum()\n",
    "\n"
   ]
  },
  {
   "cell_type": "markdown",
   "metadata": {
    "slideshow": {
     "slide_type": "slide"
    }
   },
   "source": [
    "## Plotting\n",
    "Pandas can directly be used for plotting. More advanced funtionality requires `matplotlib` (more on that below)."
   ]
  },
  {
   "cell_type": "code",
   "execution_count": null,
   "metadata": {
    "slideshow": {
     "slide_type": "-"
    }
   },
   "outputs": [],
   "source": [
    "%matplotlib inline \n",
    "sw = df.loc[df['location'] == \"Switzerland\"]\n",
    "sw.plot(x=\"date\", y=\"new_cases\");"
   ]
  },
  {
   "cell_type": "markdown",
   "metadata": {
    "slideshow": {
     "slide_type": "-"
    }
   },
   "source": [
    "The first line is an [ipython magic](http://ipython.readthedocs.io/en/stable/interactive/magics.html). It makes plots appear inline in the notebook."
   ]
  },
  {
   "cell_type": "markdown",
   "metadata": {
    "slideshow": {
     "slide_type": "slide"
    }
   },
   "source": [
    "* Advanced plotting requires the `matplotlib` library ([user guide](https://matplotlib.org/users/index.html)), which is inspired by the plotting facilities of Matlab&reg;.\n",
    "* Its main plotting facilities reside in its `pyplot` module. It is usually imported as"
   ]
  },
  {
   "cell_type": "code",
   "execution_count": null,
   "metadata": {},
   "outputs": [],
   "source": [
    "import matplotlib.pyplot as plt\n",
    "%matplotlib inline"
   ]
  },
  {
   "cell_type": "markdown",
   "metadata": {
    "slideshow": {
     "slide_type": "slide"
    }
   },
   "source": [
    "`matplotlib` enables us to make the above plot prettier:"
   ]
  },
  {
   "cell_type": "code",
   "execution_count": null,
   "metadata": {},
   "outputs": [],
   "source": [
    "sw = df.loc[df['location'] == \"Switzerland\"]\n",
    "sw.plot(x=\"date\", y=\"new_cases\")\n",
    "plt.gcf().autofmt_xdate()"
   ]
  },
  {
   "cell_type": "markdown",
   "metadata": {},
   "source": [
    "* The `seaborn` library ([user guide](https://seaborn.pydata.org/tutorial.html)) provides higher-level statistical visualizations:"
   ]
  },
  {
   "cell_type": "code",
   "execution_count": null,
   "metadata": {},
   "outputs": [],
   "source": [
    "import seaborn as sns"
   ]
  },
  {
   "cell_type": "markdown",
   "metadata": {
    "slideshow": {
     "slide_type": "slide"
    }
   },
   "source": [
    "* I will only give a brief introduction to matplotlib here. The fundamental object in matplotlib is a `figure`, inside of which reside `subplots` (or `axes`).\n",
    "* To create a new figure, add an axis, and plot to it:"
   ]
  },
  {
   "cell_type": "code",
   "execution_count": null,
   "metadata": {},
   "outputs": [],
   "source": [
    "# with the inline backend, these need to be in the same cell.\n",
    "fig = plt.figure(figsize=(6,3)) # create a new empty figure object. size is optional.\n",
    "ax1 = fig.add_subplot(121) # layout: (1x2). ax1 is the top left one\n",
    "ax2 = fig.add_subplot(122)\n",
    "ax1.plot(range(10))\n",
    "ax2.plot(range(10, 0, -1));"
   ]
  },
  {
   "cell_type": "markdown",
   "metadata": {
    "slideshow": {
     "slide_type": "slide"
    }
   },
   "source": [
    "* By default, matplotlib plots into the current axis, creating one (and a figure) if needed. Using the convenience method `subplot`, this allows us to achieve the same without explicit reference to figures and axes:"
   ]
  },
  {
   "cell_type": "code",
   "execution_count": null,
   "metadata": {
    "slideshow": {
     "slide_type": "-"
    }
   },
   "outputs": [],
   "source": [
    "plt.subplot(121)\n",
    "plt.plot(range(10))\n",
    "plt.subplot(122) \n",
    "plt.plot(range(10, 0, -1));"
   ]
  },
  {
   "cell_type": "markdown",
   "metadata": {
    "slideshow": {
     "slide_type": "slide"
    }
   },
   "source": [
    "* To plot two vectors $x$ and $y$ against each other:"
   ]
  },
  {
   "cell_type": "code",
   "execution_count": null,
   "metadata": {
    "slideshow": {
     "slide_type": "-"
    }
   },
   "outputs": [],
   "source": [
    "import numpy as np\n",
    "x = np.linspace(-10, 10, 100)\n",
    "y = x**2\n",
    "plt.plot(x,y,'r--') # dashed red line\n",
    "plt.xlabel('$x$') # math (LaTeX) equations can be included by enclosing in $$.\n",
    "plt.ylabel('$y$')\n",
    "plt.title('A Parabola')\n",
    "plt.legend(['$f(x)$']) # expects a list of strings\n",
    "plt.xlim(xmin=-8, xmax=8); # axis limits\n",
    "# plt.savefig('filename.svg') # save the plot to disk"
   ]
  },
  {
   "cell_type": "markdown",
   "metadata": {
    "slideshow": {
     "slide_type": "slide"
    }
   },
   "source": [
    "### A more advanced example: quantiles of the normal distribution"
   ]
  },
  {
   "cell_type": "code",
   "execution_count": null,
   "metadata": {
    "slideshow": {
     "slide_type": "-"
    }
   },
   "outputs": [],
   "source": [
    "from matplotlib.patches import Polygon\n",
    "import scipy.stats as stats\n",
    "a, b, c = -5, 5, stats.norm.ppf(0.05)\n",
    "x = np.linspace(a, b, 500)\n",
    "y = stats.norm.pdf(x)\n",
    "fig = plt.figure(figsize=(7, 5))\n",
    "ax = fig.add_subplot(111)\n",
    "plt.plot(x, y, 'b', linewidth=2)\n",
    "plt.ylim(ymin=0)\n",
    "plt.xlim(xmin=a, xmax=b)\n",
    "Ix = np.linspace(a, c)\n",
    "Iy = stats.norm.pdf(Ix)\n",
    "verts = [(a, 0)] + list(zip(Ix, Iy)) + [(c, 0)]\n",
    "poly = Polygon(verts, facecolor='0.7', edgecolor='0.5')\n",
    "ax.add_patch(poly)\n",
    "ax.annotate(\n",
    "            '$2.5\\%$', xy=(-2, 0.025), xytext=(-3, 0.1),\n",
    "            arrowprops=dict(width=.5),\n",
    "            )\n",
    "plt.xlabel('$x$')\n",
    "plt.ylabel('$f(x)$')\n",
    "ax.set_xticks([c, 0])\n",
    "ax.set_xticklabels(['$-1.96$', '0'])\n",
    "ax.set_yticks([])\n",
    "plt.savefig('img/var.svg')\n",
    "plt.close()"
   ]
  },
  {
   "cell_type": "markdown",
   "metadata": {
    "slideshow": {
     "slide_type": "slide"
    }
   },
   "source": [
    "<img src=\"img/var.svg\" alt=\"VaR\" style=\"display:block; margin-left: auto; margin-right: auto; width: 80%;\">"
   ]
  },
  {
   "cell_type": "markdown",
   "metadata": {
    "slideshow": {
     "slide_type": "slide"
    }
   },
   "source": [
    "## Working with Time Series\n",
    "### Data Types"
   ]
  },
  {
   "cell_type": "markdown",
   "metadata": {},
   "source": [
    "* Different data types for representing times and dates exist in Python.\n",
    "* The most basic one is `datetime` from the eponymous package:"
   ]
  },
  {
   "cell_type": "code",
   "execution_count": null,
   "metadata": {},
   "outputs": [],
   "source": [
    "from datetime import datetime\n",
    "datetime.today()"
   ]
  },
  {
   "cell_type": "markdown",
   "metadata": {},
   "source": [
    "* `datetime` objects can be created from strings using `strptime` and a format specifier:"
   ]
  },
  {
   "cell_type": "code",
   "execution_count": null,
   "metadata": {},
   "outputs": [],
   "source": [
    "datetime.strptime('2017-03-31', '%Y-%m-%d')"
   ]
  },
  {
   "cell_type": "markdown",
   "metadata": {
    "slideshow": {
     "slide_type": "slide"
    }
   },
   "source": [
    "* Pandas uses `Timestamps` instead of `datetime` objects. Unlike timestamps, they store frequency and time zone information. The two can mostly be used interchangeably."
   ]
  },
  {
   "cell_type": "code",
   "execution_count": null,
   "metadata": {},
   "outputs": [],
   "source": [
    "pd.Timestamp('2017-03-31')"
   ]
  },
  {
   "cell_type": "markdown",
   "metadata": {},
   "source": [
    "* A time series is a `Series` with a special index, called a `DatetimeIndex`; essentially an array of `Timestamp`s.\n",
    "* It can be created using the `date_range` function."
   ]
  },
  {
   "cell_type": "code",
   "execution_count": null,
   "metadata": {},
   "outputs": [],
   "source": [
    "import numpy as np\n",
    "myindex = pd.date_range(end=pd.Timestamp.today(), normalize=True, periods=100, freq='B')\n",
    "P = 20 + np.random.randn(100).cumsum()  # make up some share prices.\n",
    "aapl = pd.Series(P, name=\"AAPL\", index=myindex)\n",
    "aapl.tail()"
   ]
  },
  {
   "cell_type": "markdown",
   "metadata": {
    "slideshow": {
     "slide_type": "slide"
    }
   },
   "source": [
    "* As a convenience, Pandas allows indexing timeseries with date strings:"
   ]
  },
  {
   "cell_type": "code",
   "execution_count": null,
   "metadata": {},
   "outputs": [],
   "source": [
    "aapl['4/11/2022']"
   ]
  },
  {
   "cell_type": "markdown",
   "metadata": {
    "slideshow": {
     "slide_type": "slide"
    }
   },
   "source": [
    "# Recommended reading\n",
    "* https://python-course.eu/numerical-programming/ 23-28, 32-34"
   ]
  },
  {
   "cell_type": "markdown",
   "metadata": {
    "slideshow": {
     "slide_type": "slide"
    }
   },
   "source": [
    "# Homework"
   ]
  },
  {
   "cell_type": "markdown",
   "metadata": {},
   "source": [
    "https://github.com/guipsamora/pandas_exercises/tree/master/01_Getting_%26_Knowing_Your_Data/Chipotle"
   ]
  }
 ],
 "metadata": {
  "celltoolbar": "Slideshow",
  "kernelspec": {
   "display_name": "Python 3 (ipykernel)",
   "language": "python",
   "name": "python3"
  },
  "language_info": {
   "codemirror_mode": {
    "name": "ipython",
    "version": 3
   },
   "file_extension": ".py",
   "mimetype": "text/x-python",
   "name": "python",
   "nbconvert_exporter": "python",
   "pygments_lexer": "ipython3",
   "version": "3.7.13"
  },
  "livereveal": {
   "start_slideshow_at": "selected"
  }
 },
 "nbformat": 4,
 "nbformat_minor": 2
}
