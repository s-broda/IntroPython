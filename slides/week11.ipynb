{
 "cells": [
  {
   "cell_type": "markdown",
   "metadata": {
    "slideshow": {
     "slide_type": "slide"
    }
   },
   "source": [
    "<p style=\"text-align: center; font-size: 300%\"> Introduction to Programming in Python </p>\n",
    "<img src=\"img/logo.svg\" alt=\"LOGO\" style=\"display:block; margin-left: auto; margin-right: auto; width: 30%;\">"
   ]
  },
  {
   "cell_type": "markdown",
   "metadata": {
    "slideshow": {
     "slide_type": "slide"
    }
   },
   "source": [
    "# A few odds and ends"
   ]
  },
  {
   "cell_type": "markdown",
   "metadata": {
    "slideshow": {
     "slide_type": "slide"
    }
   },
   "source": [
    "## Comprehensions and generator expressions\n",
    "### List comprehensions"
   ]
  },
  {
   "cell_type": "markdown",
   "metadata": {},
   "source": [
    "* A \"comprehension\" in Python is a convenient way of constructing container types such as lists, dictionaries, etc. \n",
    "* Lists are the most common use case.\n",
    "* They look a bit like a for loop:"
   ]
  },
  {
   "cell_type": "code",
   "execution_count": null,
   "metadata": {},
   "outputs": [],
   "source": [
    "[a**2 for a in range(0, 10)]"
   ]
  },
  {
   "cell_type": "code",
   "execution_count": null,
   "metadata": {},
   "outputs": [],
   "source": [
    "[a**2 for a in range(0, 10) if a%2!=0]"
   ]
  },
  {
   "cell_type": "markdown",
   "metadata": {
    "slideshow": {
     "slide_type": "slide"
    }
   },
   "source": [
    "### Generator expressions\n",
    "* These look like list comprehensions, but use round brackets.\n",
    "* The main difference is that they don't \"materialize\" a list; rather, they produce their elements on demand. This saves memory.\n",
    "* Example"
   ]
  },
  {
   "cell_type": "code",
   "execution_count": null,
   "metadata": {},
   "outputs": [],
   "source": [
    "(a**2 for a in range(0, 10))"
   ]
  },
  {
   "cell_type": "code",
   "execution_count": null,
   "metadata": {},
   "outputs": [],
   "source": [
    "mygen = (a**2 for a in range(0, 10))\n",
    "for elem in mygen:\n",
    "    print(elem)"
   ]
  },
  {
   "cell_type": "markdown",
   "metadata": {
    "slideshow": {
     "slide_type": "slide"
    }
   },
   "source": [
    "#### Exercise\n",
    "* Create a list containing the odd numbers between zero and 50, using\n",
    "    - a for loop\n",
    "    - a list comprehension"
   ]
  },
  {
   "cell_type": "markdown",
   "metadata": {
    "slideshow": {
     "slide_type": "slide"
    }
   },
   "source": [
    "## Exception (or error) handling\n",
    "* Whenever a program needs to deal with data not under its control (user inputs, reading from files, etc.), it is a good idea to defend against illegal inputs.\n",
    "* Consider the solution to the homeworks of Week 4 below.\n",
    "* What happens if the user enters a string?"
   ]
  },
  {
   "cell_type": "code",
   "execution_count": null,
   "metadata": {
    "slideshow": {
     "slide_type": "slide"
    }
   },
   "outputs": [],
   "source": [
    "import random\n",
    "lower = 0\n",
    "upper = 100\n",
    "max_guesses = 10\n",
    "to_guess = random.randint(lower, upper)\n",
    "current_guess = -1\n",
    "num_guesses = 0\n",
    "while current_guess != to_guess:\n",
    "    num_guesses += 1\n",
    "    if num_guesses > max_guesses:\n",
    "        print(\"Maximum number of guesses exceeded\")\n",
    "        break\n",
    "    current_guess = int(input(\"Your guess (between {} and {}): \".format(lower, upper)))\n",
    "    if current_guess < 0:\n",
    "        print(\"Bye.\")\n",
    "        break\n",
    "    if current_guess > to_guess:\n",
    "        print(\"You guessed too high.\")\n",
    "        upper = current_guess\n",
    "    elif current_guess < to_guess:\n",
    "        print(\"You guessed too low.\")\n",
    "        lower = current_guess\n",
    "else:\n",
    "    print(\"You got it!\")        "
   ]
  },
  {
   "cell_type": "markdown",
   "metadata": {
    "slideshow": {
     "slide_type": "slide"
    }
   },
   "source": [
    "* Often, rather than just throwing an error and terminating the program, it is desirable to have the program deal with the error.\n",
    "* This is what exception/error handling is for.\n",
    "* Basic syntax:"
   ]
  },
  {
   "cell_type": "code",
   "execution_count": null,
   "metadata": {
    "slideshow": {
     "slide_type": "-"
    }
   },
   "outputs": [],
   "source": [
    "try:\n",
    "    num_str = input(\"Please enter an integer: \")\n",
    "    num = int(num_str)\n",
    "except:\n",
    "    print(\"You entered {}, which cannot be converted to an integer\".format(num_str))"
   ]
  },
  {
   "cell_type": "markdown",
   "metadata": {
    "slideshow": {
     "slide_type": "slide"
    }
   },
   "source": [
    "## Exercise\n",
    "* Use exception handling to defend against illegal inputs in the number guessing game above."
   ]
  },
  {
   "cell_type": "markdown",
   "metadata": {
    "slideshow": {
     "slide_type": "slide"
    }
   },
   "source": [
    "# Recommended reading\n"
   ]
  },
  {
   "cell_type": "markdown",
   "metadata": {},
   "source": [
    "* https://www.geeksforgeeks.org/python-list-comprehensions-vs-generator-expressions/"
   ]
  },
  {
   "cell_type": "markdown",
   "metadata": {},
   "source": [
    "# Further reading\n",
    "* https://python-course.eu/python-tutorial/errors-and-exception-handling.php"
   ]
  },
  {
   "cell_type": "markdown",
   "metadata": {
    "slideshow": {
     "slide_type": "slide"
    }
   },
   "source": [
    "# Homework\n",
    "* https://towardsdatascience.com/beginner-to-advanced-list-comprehension-practice-problems-a89604851313 Exercises 1-3"
   ]
  }
 ],
 "metadata": {
  "celltoolbar": "Slideshow",
  "kernelspec": {
   "display_name": "Python 3 (ipykernel)",
   "language": "python",
   "name": "python3"
  },
  "language_info": {
   "codemirror_mode": {
    "name": "ipython",
    "version": 3
   },
   "file_extension": ".py",
   "mimetype": "text/x-python",
   "name": "python",
   "nbconvert_exporter": "python",
   "pygments_lexer": "ipython3",
   "version": "3.7.11"
  },
  "livereveal": {
   "start_slideshow_at": "selected"
  }
 },
 "nbformat": 4,
 "nbformat_minor": 2
}
