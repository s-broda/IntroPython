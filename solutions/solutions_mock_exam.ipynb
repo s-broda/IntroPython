{
 "cells": [
  {
   "cell_type": "markdown",
   "id": "7da45ad2",
   "metadata": {},
   "source": [
    "# Array lookup"
   ]
  },
  {
   "cell_type": "code",
   "execution_count": null,
   "id": "a2a83717",
   "metadata": {},
   "outputs": [],
   "source": [
    "# given code:\n",
    "passed = [\"Carl\", \"Joe\", \"Rick\"]\n",
    "failed = [\"Erwin\", \"Ramon\", \"Simon\"]\n",
    "name = input(\"Enter your name: \")\n",
    "# solution:\n",
    "if name in passed:\n",
    "    print(\"You passed the exam.\")\n",
    "elif name in failed:\n",
    "    print(\"You failed the exam.\")\n",
    "else:\n",
    "    print(\"You did not take the exam\")"
   ]
  },
  {
   "cell_type": "markdown",
   "id": "c7b6e817",
   "metadata": {},
   "source": [
    "# Functions"
   ]
  },
  {
   "cell_type": "code",
   "execution_count": null,
   "id": "7a96c928",
   "metadata": {},
   "outputs": [],
   "source": [
    "# solution part 1\n",
    "def first_n_squares(n):\n",
    "    return [i**2 for i in range(1, n+1)]\n",
    "\n",
    "# solution part 2\n",
    "def first_n_squares2(n, reverse=False):\n",
    "    if reverse:\n",
    "        return [i**2 for i in range(n, 0, -1)]\n",
    "    else:\n",
    "        return [i**2 for i in range(1, n+1)]\n",
    "\n",
    "# alternative solution part 2\n",
    "def first_n_squares2(n, reverse=False):\n",
    "    mylist = [i**2 for i in range(1, n+1)]\n",
    "    if reverse:\n",
    "        mylist.reverse() # modifies the list in-place\n",
    "    return mylist"
   ]
  },
  {
   "cell_type": "markdown",
   "id": "3180f8c1",
   "metadata": {},
   "source": [
    "# List comprehension"
   ]
  },
  {
   "cell_type": "code",
   "execution_count": null,
   "id": "4c804025",
   "metadata": {},
   "outputs": [],
   "source": [
    "# given code\n",
    "from math import factorial, exp\n",
    "n = 17\n",
    "e = 0\n",
    "for i in range(0, n):\n",
    "    e += 1 / factorial(i)\n",
    "print(e)\n",
    "print(exp(1)) # for comparison\n",
    "\n",
    "# solution\n",
    "sum([1/factorial(i) for i in range(0, n)])"
   ]
  },
  {
   "cell_type": "markdown",
   "id": "88bd7895",
   "metadata": {},
   "source": [
    "# Loops"
   ]
  },
  {
   "cell_type": "code",
   "execution_count": null,
   "id": "6523d2ea",
   "metadata": {},
   "outputs": [],
   "source": [
    "# solution\n",
    "from math import factorial, exp\n",
    "n = 17\n",
    "e = 0\n",
    "i = 0\n",
    "while i < 17:\n",
    "    e += 1 / factorial(i)\n",
    "    i += 1\n",
    "print(e)\n",
    "print(exp(1)) # for comparison"
   ]
  },
  {
   "cell_type": "markdown",
   "id": "a327d434",
   "metadata": {},
   "source": [
    "# Scope"
   ]
  },
  {
   "cell_type": "code",
   "execution_count": null,
   "id": "cd4683de",
   "metadata": {},
   "outputs": [],
   "source": [
    "# solution\n",
    "a = 1 # a global variable\n",
    "def foo():\n",
    "    a = 2 # a is a new local variable here\n",
    "    print(a) # so this prints 2\n",
    "foo()\n",
    "print(a) # the global a is unmodified, so this prints 1"
   ]
  },
  {
   "cell_type": "markdown",
   "id": "914d47dd",
   "metadata": {},
   "source": [
    "# Slicing"
   ]
  },
  {
   "cell_type": "code",
   "execution_count": null,
   "id": "6909bb24",
   "metadata": {},
   "outputs": [],
   "source": [
    "# given\n",
    "text = \"\"\"Atveroeos et accusam\n",
    "consetetur sadipscing elitr,\n",
    "sed diam nonumy eirmod tempor\n",
    "invidunt ut labore et dolore\n",
    "et justo duo dolores et ea rebum.\"\"\"\n",
    "\n",
    "# solution\n",
    "print(text[0:4])\n",
    "print(text[-2:])\n",
    "print(text[0:8:2])\n",
    "print(text[-3:-5:-1])\n"
   ]
  },
  {
   "cell_type": "markdown",
   "id": "ee1e7aeb",
   "metadata": {},
   "source": [
    "# String interpolation"
   ]
  },
  {
   "cell_type": "code",
   "execution_count": null,
   "id": "583066b9",
   "metadata": {},
   "outputs": [],
   "source": [
    "# given code\n",
    "from datetime import datetime\n",
    "time = datetime.now().time()\n",
    "date = datetime.now().strftime('%A, %d %b')\n",
    "\n",
    "# solution to part 1\n",
    "print(\"Today is {}, and the current time is {}.\".format(date, time))\n",
    "# solution to part 2\n",
    "print(\"Today is {}, and the current time is {}.\".format(date, time.strftime(\"%I:%M %p\")))"
   ]
  }
 ],
 "metadata": {
  "kernelspec": {
   "display_name": "Python 3 (ipykernel)",
   "language": "python",
   "name": "python3"
  },
  "language_info": {
   "codemirror_mode": {
    "name": "ipython",
    "version": 3
   },
   "file_extension": ".py",
   "mimetype": "text/x-python",
   "name": "python",
   "nbconvert_exporter": "python",
   "pygments_lexer": "ipython3",
   "version": "3.7.11"
  }
 },
 "nbformat": 4,
 "nbformat_minor": 5
}
