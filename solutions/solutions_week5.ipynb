{
 "cells": [
  {
   "cell_type": "markdown",
   "id": "b996a682",
   "metadata": {},
   "source": [
    "### Area"
   ]
  },
  {
   "cell_type": "code",
   "execution_count": 1,
   "id": "6d672356",
   "metadata": {},
   "outputs": [],
   "source": [
    "def area(a, b=None):\n",
    "    \"\"\"Compute the area of a rectangle. If the second argument is not provided, a square is assumed.\"\"\"\n",
    "    if b:\n",
    "        c = b\n",
    "    else:\n",
    "        c = a\n",
    "    return a * c"
   ]
  },
  {
   "cell_type": "code",
   "execution_count": 2,
   "id": "95f4ad77",
   "metadata": {},
   "outputs": [
    {
     "data": {
      "text/plain": [
       "6"
      ]
     },
     "execution_count": 2,
     "metadata": {},
     "output_type": "execute_result"
    }
   ],
   "source": [
    "area(2, 3)"
   ]
  },
  {
   "cell_type": "code",
   "execution_count": 3,
   "id": "6f5d5afc",
   "metadata": {},
   "outputs": [
    {
     "data": {
      "text/plain": [
       "4"
      ]
     },
     "execution_count": 3,
     "metadata": {},
     "output_type": "execute_result"
    }
   ],
   "source": [
    "area(2)"
   ]
  },
  {
   "cell_type": "code",
   "execution_count": 4,
   "id": "ceb08882",
   "metadata": {},
   "outputs": [
    {
     "name": "stdout",
     "output_type": "stream",
     "text": [
      "Help on function area in module __main__:\n",
      "\n",
      "area(a, b=None)\n",
      "    Compute the area of a rectangle. If the second argument is not provided, a square is assumed.\n",
      "\n"
     ]
    }
   ],
   "source": [
    "help(area)"
   ]
  }
 ],
 "metadata": {
  "kernelspec": {
   "display_name": "Python 3 (ipykernel)",
   "language": "python",
   "name": "python3"
  },
  "language_info": {
   "codemirror_mode": {
    "name": "ipython",
    "version": 3
   },
   "file_extension": ".py",
   "mimetype": "text/x-python",
   "name": "python",
   "nbconvert_exporter": "python",
   "pygments_lexer": "ipython3",
   "version": "3.7.11"
  }
 },
 "nbformat": 4,
 "nbformat_minor": 5
}
