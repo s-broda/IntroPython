{
 "cells": [
  {
   "cell_type": "markdown",
   "id": "a1e175fc",
   "metadata": {},
   "source": [
    "# Translation with dictionaries"
   ]
  },
  {
   "cell_type": "markdown",
   "id": "ec01fffb",
   "metadata": {},
   "source": [
    "The following dictionaries are given:"
   ]
  },
  {
   "cell_type": "code",
   "execution_count": 1,
   "id": "9c1ecc5e",
   "metadata": {},
   "outputs": [],
   "source": [
    "en_de = {\"red\" : \"rot\", \"green\" : \"grün\", \"blue\" : \"blau\", \"yellow\" :\"gelb\"}\n",
    "de_fr = {\"rot\" : \"rouge\", \"grün\" : \"vert\", \"blau\" : \"bleu\", \"gelb\" :\"jaune\"}"
   ]
  },
  {
   "cell_type": "markdown",
   "id": "33be5370",
   "metadata": {},
   "source": [
    "(example taken from https://python-course.eu/python-tutorial/dictionaries.php).\n",
    "\n",
    "How can you translate \"red\" from English to French?"
   ]
  },
  {
   "cell_type": "markdown",
   "id": "0c59426e",
   "metadata": {},
   "source": [
    "## Solution\n",
    "### Long form"
   ]
  },
  {
   "cell_type": "code",
   "execution_count": 5,
   "id": "38482b89",
   "metadata": {},
   "outputs": [
    {
     "name": "stdout",
     "output_type": "stream",
     "text": [
      "rot\n",
      "rouge\n"
     ]
    }
   ],
   "source": [
    "to_translate = \"red\"\n",
    "in_german = en_de[\"red\"]\n",
    "print(in_german)\n",
    "in_french = de_fr[in_german]\n",
    "print(in_french)"
   ]
  },
  {
   "cell_type": "markdown",
   "id": "fc49d5ad",
   "metadata": {},
   "source": [
    "### Short form"
   ]
  },
  {
   "cell_type": "code",
   "execution_count": 8,
   "id": "ad69e545",
   "metadata": {},
   "outputs": [
    {
     "data": {
      "text/plain": [
       "'rouge'"
      ]
     },
     "execution_count": 8,
     "metadata": {},
     "output_type": "execute_result"
    }
   ],
   "source": [
    "de_fr[en_de[\"red\"]]"
   ]
  }
 ],
 "metadata": {
  "kernelspec": {
   "display_name": "Python 3 (ipykernel)",
   "language": "python",
   "name": "python3"
  },
  "language_info": {
   "codemirror_mode": {
    "name": "ipython",
    "version": 3
   },
   "file_extension": ".py",
   "mimetype": "text/x-python",
   "name": "python",
   "nbconvert_exporter": "python",
   "pygments_lexer": "ipython3",
   "version": "3.7.13"
  }
 },
 "nbformat": 4,
 "nbformat_minor": 5
}
