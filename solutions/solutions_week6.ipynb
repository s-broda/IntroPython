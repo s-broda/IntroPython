{
 "cells": [
  {
   "cell_type": "markdown",
   "id": "bec092ba",
   "metadata": {},
   "source": [
    "# Area of a circle"
   ]
  },
  {
   "cell_type": "code",
   "execution_count": 8,
   "id": "7fb4115a",
   "metadata": {},
   "outputs": [],
   "source": [
    "from math import pi\n",
    "def area(r):\n",
    "    \"\"\"Return the area of a circle\"\"\"\n",
    "    return pi * r**2"
   ]
  },
  {
   "cell_type": "code",
   "execution_count": 9,
   "id": "cc969e3e",
   "metadata": {},
   "outputs": [
    {
     "data": {
      "text/plain": [
       "28.274333882308138"
      ]
     },
     "execution_count": 9,
     "metadata": {},
     "output_type": "execute_result"
    }
   ],
   "source": [
    "area(3)"
   ]
  }
 ],
 "metadata": {
  "kernelspec": {
   "display_name": "Python 3 (ipykernel)",
   "language": "python",
   "name": "python3"
  },
  "language_info": {
   "codemirror_mode": {
    "name": "ipython",
    "version": 3
   },
   "file_extension": ".py",
   "mimetype": "text/x-python",
   "name": "python",
   "nbconvert_exporter": "python",
   "pygments_lexer": "ipython3",
   "version": "3.7.11"
  }
 },
 "nbformat": 4,
 "nbformat_minor": 5
}
