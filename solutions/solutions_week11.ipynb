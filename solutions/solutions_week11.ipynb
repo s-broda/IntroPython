{
 "cells": [
  {
   "cell_type": "markdown",
   "id": "33fb4c20",
   "metadata": {},
   "source": [
    "# List comprehensions"
   ]
  },
  {
   "cell_type": "markdown",
   "id": "130a3656",
   "metadata": {},
   "source": [
    "## `for` loop"
   ]
  },
  {
   "cell_type": "code",
   "execution_count": null,
   "id": "86de116c",
   "metadata": {},
   "outputs": [],
   "source": [
    "mylist = []\n",
    "for i in range(0, 51):\n",
    "    if i%2 != 0:\n",
    "        mylist.append(i)\n",
    "print(mylist)"
   ]
  },
  {
   "cell_type": "markdown",
   "id": "b08b8b3e",
   "metadata": {},
   "source": [
    "## List comprehension"
   ]
  },
  {
   "cell_type": "code",
   "execution_count": null,
   "id": "0777de56",
   "metadata": {},
   "outputs": [],
   "source": [
    "[i for i in range(0, 51) if i%2 != 0]\n",
    "print(mylist)"
   ]
  },
  {
   "cell_type": "markdown",
   "id": "7c0ee392",
   "metadata": {},
   "source": [
    "# Number guessing game\n",
    "## First solution"
   ]
  },
  {
   "cell_type": "code",
   "execution_count": null,
   "id": "6ce8359a",
   "metadata": {},
   "outputs": [],
   "source": [
    "import random\n",
    "lower = 0\n",
    "upper = 100\n",
    "max_guesses = 10\n",
    "to_guess = random.randint(lower, upper)\n",
    "current_guess = -1\n",
    "num_guesses = 0\n",
    "while current_guess != to_guess:\n",
    "    num_guesses += 1\n",
    "    if num_guesses > max_guesses:\n",
    "        print(\"Maximum number of guesses exceeded\")\n",
    "        break\n",
    "    try:\n",
    "        current_guess = int(input(\"Your guess (between {} and {}): \".format(lower, upper)))\n",
    "        if current_guess < 0:\n",
    "            print(\"Bye.\")\n",
    "            break\n",
    "        if current_guess > to_guess:\n",
    "            print(\"You guessed too high.\")\n",
    "            upper = current_guess\n",
    "        elif current_guess < to_guess:\n",
    "            print(\"You guessed too low.\")\n",
    "            lower = current_guess\n",
    "    except:\n",
    "        print(\"Invalid input.\")    \n",
    "else:\n",
    "    print(\"You got it!\")        "
   ]
  },
  {
   "cell_type": "markdown",
   "id": "984627e7",
   "metadata": {},
   "source": [
    "## Alternative solution"
   ]
  },
  {
   "cell_type": "code",
   "execution_count": null,
   "id": "79d19cb4",
   "metadata": {},
   "outputs": [],
   "source": [
    "import random\n",
    "lower = 0\n",
    "upper = 100\n",
    "max_guesses = 10\n",
    "to_guess = random.randint(lower, upper)\n",
    "current_guess = -1\n",
    "num_guesses = 0\n",
    "while current_guess != to_guess:\n",
    "    num_guesses += 1\n",
    "    if num_guesses > max_guesses:\n",
    "        print(\"Maximum number of guesses exceeded\")\n",
    "        break\n",
    "    try:\n",
    "        current_guess = int(input(\"Your guess (between {} and {}): \".format(lower, upper)))\n",
    "    except:\n",
    "        print(\"You idiot!\")\n",
    "        continue\n",
    "    if current_guess < 0:\n",
    "        print(\"Bye.\")\n",
    "        break\n",
    "    if current_guess > to_guess:\n",
    "        print(\"You guessed too high.\")\n",
    "        upper = current_guess\n",
    "    elif current_guess < to_guess:\n",
    "        print(\"You guessed too low.\")\n",
    "        lower = current_guess\n",
    "else:\n",
    "    print(\"You got it!\")  "
   ]
  }
 ],
 "metadata": {
  "kernelspec": {
   "display_name": "Python 3 (ipykernel)",
   "language": "python",
   "name": "python3"
  },
  "language_info": {
   "codemirror_mode": {
    "name": "ipython",
    "version": 3
   },
   "file_extension": ".py",
   "mimetype": "text/x-python",
   "name": "python",
   "nbconvert_exporter": "python",
   "pygments_lexer": "ipython3",
   "version": "3.7.13"
  }
 },
 "nbformat": 4,
 "nbformat_minor": 5
}
