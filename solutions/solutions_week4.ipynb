{
 "cells": [
  {
   "cell_type": "markdown",
   "id": "786c4cd6",
   "metadata": {},
   "source": [
    "# Primes"
   ]
  },
  {
   "cell_type": "code",
   "execution_count": null,
   "id": "1b5902cf",
   "metadata": {},
   "outputs": [],
   "source": [
    "N = 100\n",
    "for i in range(2, N+1):\n",
    "    for j in range(2, i):        \n",
    "        if i % j == 0:\n",
    "            break\n",
    "    else:\n",
    "        print(i)"
   ]
  },
  {
   "cell_type": "markdown",
   "id": "23ef2842",
   "metadata": {},
   "source": [
    "# Number guessing with bells and whistles"
   ]
  },
  {
   "cell_type": "code",
   "execution_count": null,
   "id": "c1038c63",
   "metadata": {},
   "outputs": [],
   "source": [
    "import random\n",
    "lower = 0\n",
    "upper = 100\n",
    "max_guesses = 10\n",
    "to_guess = random.randint(lower, upper)\n",
    "current_guess = -1\n",
    "num_guesses = 0\n",
    "while current_guess != to_guess:\n",
    "    num_guesses += 1\n",
    "    if num_guesses > max_guesses:\n",
    "        print(\"Maximum number of guesses exceeded\")\n",
    "        break\n",
    "    current_guess = int(input(\"Your guess (between {} and {})\".format(lower, upper)))\n",
    "    if current_guess < 0:\n",
    "        print(\"Bye.\")\n",
    "        break\n",
    "    if current_guess > to_guess:\n",
    "        print(\"You guessed too high.\")\n",
    "        upper = current_guess\n",
    "    elif current_guess < to_guess:\n",
    "        print(\"You guessed too low.\")\n",
    "        lower = current_guess\n",
    "else:\n",
    "    print(\"You got it!\")        "
   ]
  }
 ],
 "metadata": {
  "kernelspec": {
   "display_name": "Python 3 (ipykernel)",
   "language": "python",
   "name": "python3"
  },
  "language_info": {
   "codemirror_mode": {
    "name": "ipython",
    "version": 3
   },
   "file_extension": ".py",
   "mimetype": "text/x-python",
   "name": "python",
   "nbconvert_exporter": "python",
   "pygments_lexer": "ipython3",
   "version": "3.7.11"
  }
 },
 "nbformat": 4,
 "nbformat_minor": 5
}
