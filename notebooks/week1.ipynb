{
 "cells": [
  {
   "cell_type": "markdown",
   "metadata": {
    "slideshow": {
     "slide_type": "slide"
    }
   },
   "source": [
    "<p style=\"text-align: center; font-size: 300%\"> Introduction to Programming in Python </p>\n",
    "<img src=\"img/logo.svg\" alt=\"LOGO\" style=\"display:block; margin-left: auto; margin-right: auto; width: 30%;\">"
   ]
  },
  {
   "cell_type": "markdown",
   "metadata": {
    "slideshow": {
     "slide_type": "slide"
    }
   },
   "source": [
    "# Preliminaries\n",
    "\n",
    "## General Information\n",
    "\n",
    "* My name is Simon Broda. Email: [simon.broda@hslu.ch](simon.broda@hslu.ch).\n",
    "* Format of this course: 14 lectures of 2h each, mix between theory and practice.\n",
    "* Final grade based on a group assignment (groups of two; 50%) and a final exam (open book, 90min; 50%).\n",
    "* Additional exercises will be made available but not graded."
   ]
  },
  {
   "cell_type": "markdown",
   "metadata": {
    "slideshow": {
     "slide_type": "slide"
    }
   },
   "source": [
    "## Material\n",
    "* These lecture slides. Available on [Github](https://github.com/s-broda/IntroPython).\n",
    "* Website: https://python-course.eu/\n",
    "* Sources for additional exercises:\n",
    "    * https://holypython.com/beginner-python-exercises/\n",
    "    * https://pythonbasics.org/exercises/\n",
    "* Further reading:\n",
    "  * [Python documentation](https://docs.python.org/3/index.html)\n",
    "  \n"
   ]
  },
  {
   "cell_type": "markdown",
   "metadata": {
    "collapsed": true,
    "slideshow": {
     "slide_type": "slide"
    }
   },
   "source": [
    "# Introduction to Python\n",
    "## Why Python?\n",
    "* General purpose programming language, unlike, e.g., Matlab&reg;.\n",
    "* High-level language with a simple syntax, interactive (*REPL*: read-eval-print loop). Hence ideal for rapid development.\n",
    "* Vast array of libraries available, including for scientific computing and finance.\n",
    "* Native Python is usually slower than compiled languages like C++. Alleviated by highly optimized libraries, e.g. NumPy for calculations with arrays.\n",
    "* Free and open source software. Cross-platform.\n",
    "* Python skills are a marketable asset: most popular language for data science."
   ]
  },
  {
   "cell_type": "markdown",
   "metadata": {
    "slideshow": {
     "slide_type": "slide"
    }
   },
   "source": [
    "### Job Postings on Indeed.com\n",
    "<img src=\"img/trends0.png\" alt=\"Job Postings on Indeed.com\" style=\"display:block; margin-left: auto; margin-right: auto; width: 70%;\"/>\n"
   ]
  },
  {
   "cell_type": "markdown",
   "metadata": {},
   "source": [
    "[Source](https://www.ibm.com/developerworks/community/blogs/jfp/entry/What_Language_Is_Best_For_Machine_Learning_And_Data_Science?lang=en)"
   ]
  },
  {
   "cell_type": "markdown",
   "metadata": {
    "slideshow": {
     "slide_type": "slide"
    }
   },
   "source": [
    "# But Python can do all kinds of things..."
   ]
  },
  {
   "cell_type": "code",
   "execution_count": null,
   "metadata": {
    "slideshow": {
     "slide_type": "slide"
    }
   },
   "outputs": [],
   "source": [
    "# uncomment the next line if you don't have googlesearch installed yet\n",
    "#!conda install -c conda-forge -y googlesearch\n",
    "from googlesearch import search\n",
    "query = \"best course for python\"\n",
    "for i in search(query, tld=\"com\", num=10, stop=10, pause=2):\n",
    "    print(i)"
   ]
  },
  {
   "cell_type": "code",
   "execution_count": null,
   "metadata": {
    "slideshow": {
     "slide_type": "slide"
    }
   },
   "outputs": [],
   "source": [
    "#!pip install instaloader\n",
    "import instaloader\n",
    "import glob\n",
    "from IPython.display import Image \n",
    "\n",
    "d = instaloader.Instaloader()\n",
    "profile_name = 'loredana'\n",
    "d.download_profile(profile_name, profile_pic_only = True)\n",
    "for filename in glob.iglob('./' + profile_name + '/*.jpg', recursive=False):\n",
    "    pil_img = Image(filename)\n",
    "    display(pil_img)\n",
    "    break\n",
    "\n"
   ]
  },
  {
   "cell_type": "code",
   "execution_count": null,
   "metadata": {
    "slideshow": {
     "slide_type": "slide"
    }
   },
   "outputs": [],
   "source": [
    "#!conda install -c conda-forge -y pytube\n",
    "#!pip install moviepy\n",
    "from pytube import YouTube\n",
    "from IPython.display import Audio\n",
    "import moviepy.editor as mp\n",
    "url = \"https://www.youtube.com/watch?v=gdsUKphmB3Y\"\n",
    "yt = YouTube(url)\n",
    "ys = yt.streams.get_highest_resolution()\n",
    "a = ys.download(\"./\")\n",
    "clip = mp.VideoFileClip(a)\n",
    "clip.audio.write_audiofile('out.mp3')\n",
    "Audio(\"out.mp3\", autoplay=True)"
   ]
  },
  {
   "cell_type": "markdown",
   "metadata": {
    "slideshow": {
     "slide_type": "slide"
    }
   },
   "source": [
    "These examples are taken from https://dev.to/unitybuddy/9-amazing-things-to-do-with-python-1ln5. Check it out, there are more!"
   ]
  },
  {
   "cell_type": "markdown",
   "metadata": {
    "slideshow": {
     "slide_type": "slide"
    }
   },
   "source": [
    "## Obtaining Python\n",
    "* Anaconda is a Python distribution, developed by Continuum Analytics, and specifically designed for scientific computing.\n",
    "* Comes with its own package manager (conda). Many important packages (the *SciPy stack*) are pre-installed. \n",
    "* We will install it together right now. You can find it [here](https://www.anaconda.com/products/individual). I recommend adding it to your `PATH` upon installation.\n",
    "* Optional: Install the [RISE plugin](https://rise.readthedocs.io/en/stable/) to allow viewing notebooks as slide shows:"
   ]
  },
  {
   "cell_type": "code",
   "execution_count": null,
   "metadata": {},
   "outputs": [],
   "source": [
    "# uncomment the next line to install. Note: \"!\" executes shell commands.\n",
    "# !conda install -c conda-forge -y rise"
   ]
  },
  {
   "cell_type": "markdown",
   "metadata": {
    "slideshow": {
     "slide_type": "slide"
    }
   },
   "source": [
    "## IPython Shell\n",
    "* Python features a *read-eval-print loop* (REPL) which allows you to interact with it.\n",
    "* The most bare-bones method of interactive use is via the *IPython shell*: You can start it by entering `ipython` on the command line (Windows; just enter `cmd` in the start menu search) or the terminal (MacOS; start it using Launchpad).\n",
    "<img src=\"img/ipython.png\" alt=\"IPython Shell\" style=\"display:block; margin-left: auto; margin-right: auto;width: 50%;\"/>\n",
    "* For now, you can treat it as a fancy calculater. Try entering `2+2`. Use `quit()` or `exit()` to quit, `help()` for Python's interactive help."
   ]
  },
  {
   "cell_type": "markdown",
   "metadata": {
    "slideshow": {
     "slide_type": "slide"
    }
   },
   "source": [
    "## Writing Python Programs\n",
    "* Apart from using it interactively, we can also write Python *programs* so we can rerun the code later.\n",
    "* A Python program (called a *script* or a *module*) is just a text file, typically with the file extension <tt>.py</tt>.\n",
    "* It contains Python commands and comments (introduced by the `#` character)\n",
    "* To execute a program, do `run filename.py` in IPython (you may need to navigate to the right directory by using the `cd` command). \n",
    "* While it is possible to code Python using just the REPL and a text editor, many people prefer to use an *integrated development environment* (IDE).\n",
    "* Anaconda comes with an IDE called *Spyder* (Scientific PYthon Development EnviRonment), which integrates an editor, an IPython shell, and other useful tools.\n",
    "* An alternative is [PyCharm](https://www.jetbrains.com/pycharm/download/), which we will be using later in this course. "
   ]
  },
  {
   "cell_type": "markdown",
   "metadata": {
    "slideshow": {
     "slide_type": "slide"
    }
   },
   "source": [
    "<img src=\"img/pycharm.jpg\" alt=\"PyCharm IDE\" style=\"display:block; margin-left: auto; margin-right: auto;width: 90%;\"/>\n"
   ]
  },
  {
   "cell_type": "markdown",
   "metadata": {
    "slideshow": {
     "slide_type": "slide"
    }
   },
   "source": [
    "## Jupyter Notebooks\n",
    "* Another option is the *Jupyter notebook* (JUlia PYThon (e) R, formerly known as IPython notebook); this is what we will use in the coming weeks.\n",
    "* It's a web app that allows you to create documents (<tt>*.ipynb</tt>) that contain text (formatted in [Markdown](https://daringfireball.net/projects/markdown)), live code, and equations (formatted in $\\LaTeX$).\n",
    "* In fact these very slides are based on Jupyter notebooks. You can find them on my [Github page](https://github.com/s-broda/IntroPython).\n",
    "* You can start Jupyter either from the Anaconda Navigator, or by typing `jupyter notebook` in the command line / terminal.\n"
   ]
  },
  {
   "cell_type": "markdown",
   "metadata": {
    "slideshow": {
     "slide_type": "slide"
    }
   },
   "source": [
    "<img src=\"img/jupyter.png\" alt=\"A Jupyter Notebook\" style=\"display:block; margin-left: auto; margin-right: auto;width: 90%;\"/>"
   ]
  },
  {
   "cell_type": "markdown",
   "metadata": {
    "slideshow": {
     "slide_type": "slide"
    }
   },
   "source": [
    "* A notebook consists of cells, each of which is either designated as Markdown (for text and equations), or as code.\n",
    "* You should take a moment to familiarize yourself with the keyboard shortcuts. E.g., <tt>enter</tt> enters edit mode, <tt>esc</tt> enters command mode, <tt>ctrl-enter</tt> evaluates a cell, <tt>shift-enter</tt> evaluates a cell and selects the one below.\n",
    "* Useful references:\n",
    "   * [Jupyter documentation](http://jupyter-notebook.readthedocs.io/en/latest/index.html);\n",
    "   * [Markdown cheat sheet](https://github.com/adam-p/markdown-here/wiki/Markdown-Cheatsheet);\n",
    "   * [Latex math cheat sheet](https://en.wikibooks.org/wiki/LaTeX/Mathematics)."
   ]
  }
 ],
 "metadata": {
  "celltoolbar": "Slideshow",
  "kernelspec": {
   "display_name": "Python 3 (ipykernel)",
   "language": "python",
   "name": "python3"
  },
  "language_info": {
   "codemirror_mode": {
    "name": "ipython",
    "version": 3
   },
   "file_extension": ".py",
   "mimetype": "text/x-python",
   "name": "python",
   "nbconvert_exporter": "python",
   "pygments_lexer": "ipython3",
   "version": "3.7.11"
  },
  "livereveal": {
   "start_slideshow_at": "selected"
  }
 },
 "nbformat": 4,
 "nbformat_minor": 2
}
